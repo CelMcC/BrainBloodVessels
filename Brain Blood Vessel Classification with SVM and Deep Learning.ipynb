{
 "cells": [
  {
   "cell_type": "markdown",
   "metadata": {},
   "source": [
    "# Brain blood vessel clog loss\n",
    "### Introduction\n",
    "\n",
    "The data has come from https://www.drivendata.org/competitions/65/clog-loss-alzheimers-research/\n",
    "\n",
    "Initial data was a set of videos of brain blood vessels, with the aim of detecting which blood vessels are stalled. As per the project website:\n",
    "\n",
    "> 5.8 million Americans live with Alzheimer’s dementia, including 10% of all seniors 65 and older. Scientists at Cornell have discovered links between “stalls,” or clogged blood vessels in the brain, and Alzheimer’s. Stalls can reduce overall blood flow in the brain by 30%. The ability to prevent or remove stalls may transform how Alzheimer’s disease is treated.\n",
    "\n",
    "> Stall Catchers is a citizen science project that crowdsources the analysis of Alzheimer’s disease research data provided by Cornell University’s Department of Biomedical Engineering. It resolves a pressing analytic bottleneck: for each hour of data collection it would take an entire week to analyze the results in the lab, which means an entire experimental dataset would take 6-12 months to analyze. Today, the Stall Catchers players are collectively analyzing data 5x faster than the lab while exceeding data quality requirements."
   ]
  },
  {
   "cell_type": "code",
   "execution_count": 1,
   "metadata": {},
   "outputs": [
    {
     "name": "stderr",
     "output_type": "stream",
     "text": [
      "Using TensorFlow backend.\n"
     ]
    }
   ],
   "source": [
    "import pandas as pd\n",
    "import numpy as np\n",
    "import matplotlib.pyplot as plt\n",
    "from sklearn.metrics import matthews_corrcoef\n",
    "\n",
    "from sklearn.svm import SVC, LinearSVC\n",
    "\n",
    "\n",
    "import keras\n",
    "from keras.models import Sequential\n",
    "from keras.utils import to_categorical\n",
    "from sklearn.model_selection import train_test_split, GridSearchCV\n",
    "from keras.callbacks import EarlyStopping, ModelCheckpoint\n",
    "from keras.layers import Dense, Conv2D, Flatten, Dropout, BatchNormalization"
   ]
  },
  {
   "cell_type": "markdown",
   "metadata": {},
   "source": [
    "### Load data from earlier pre-processing\n",
    "Including label data, join labels to the features."
   ]
  },
  {
   "cell_type": "code",
   "execution_count": 2,
   "metadata": {},
   "outputs": [
    {
     "name": "stdout",
     "output_type": "stream",
     "text": [
      "(1313, 44, 76)\n",
      "        Unnamed: 0      filename\n",
      "id                              \n",
      "100109           0  100109_0.png\n",
      "100289           1  100289_1.png\n",
      "100588           2  100588_2.png\n",
      "100750           3  100750_3.png\n",
      "102393           4  102393_4.png\n",
      "(1313, 2)\n",
      "(573048, 2)\n",
      "        stalled\n",
      "id             \n",
      "100000        0\n",
      "100001        0\n",
      "100002        0\n",
      "100003        0\n",
      "100004        0\n",
      "        Unnamed: 0      filename  stalled\n",
      "id                                       \n",
      "100109           0  100109_0.png        1\n",
      "100289           1  100289_1.png        1\n",
      "100588           2  100588_2.png        0\n",
      "100750           3  100750_3.png        0\n",
      "102393           4  102393_4.png        0\n",
      "(1313, 3)\n"
     ]
    }
   ],
   "source": [
    "# Image Matrices\n",
    "dataset= np.load(\"masked_images.npy\")\n",
    "print(dataset.shape)\n",
    "\n",
    "# Image names\n",
    "myNames= pd.read_csv(\"outdf.csv\")\n",
    "myNames['id']= myNames.filename.str.slice(0,6)\n",
    "myNames= myNames.set_index('id')\n",
    "\n",
    "print(myNames.head())\n",
    "print(myNames.shape)\n",
    "\n",
    "# All Labels\n",
    "labels= pd.read_csv(\"../train_labels.csv\")\n",
    "print(labels.shape)\n",
    "labels['id']= labels.filename.str.slice(0,6)\n",
    "labels= labels.set_index('id')\n",
    "labels= labels.drop('filename',axis=1)\n",
    "print(labels.head())\n",
    "\n",
    "# Join the labels into the df in the correct order so that we have correctly matched labels\n",
    "data= myNames.join(labels, how='inner', on='id')\n",
    "print(data.head())\n",
    "print(data.shape)\n",
    "\n",
    "# Save an output copy\n",
    "data.to_csv(\"data_df.csv\")"
   ]
  },
  {
   "cell_type": "markdown",
   "metadata": {},
   "source": [
    "### Reshape data matrices and split into training and test"
   ]
  },
  {
   "cell_type": "code",
   "execution_count": 3,
   "metadata": {},
   "outputs": [
    {
     "name": "stdout",
     "output_type": "stream",
     "text": [
      "(1313, 3344)\n",
      "(1313,)\n"
     ]
    }
   ],
   "source": [
    "train_data= dataset.reshape(1313, 44*76)\n",
    "print(train_data.shape)\n",
    "\n",
    "train_labels= data['stalled']\n",
    "print(train_labels.shape)\n",
    "\n",
    "X_train, X_test, y_train, y_test = train_test_split(train_data, train_labels, test_size= 0.2)"
   ]
  },
  {
   "cell_type": "markdown",
   "metadata": {},
   "source": [
    "### Best accuracy from linear model"
   ]
  },
  {
   "cell_type": "code",
   "execution_count": 5,
   "metadata": {},
   "outputs": [
    {
     "name": "stdout",
     "output_type": "stream",
     "text": [
      "Best CV params {'alpha': 0.01, 'loss': 'log', 'penalty': 'l2'}\n",
      "Best CV accuracy 0.5980952380952381\n",
      "Test accuracy of best grid search hypers: 0.5855513307984791\n"
     ]
    }
   ],
   "source": [
    "from sklearn.linear_model import SGDClassifier\n",
    "\n",
    "# We set random_state=0 for reproducibility \n",
    "linear_classifier = SGDClassifier(random_state=0)\n",
    "\n",
    "# Instantiate the GridSearchCV object and run the search\n",
    "parameters = {'alpha':[0.00001, 0.0001, 0.001, 0.01, 0.1, 1], \n",
    "             'loss':['hinge','log'], 'penalty':['l1','l2']}\n",
    "searcher = GridSearchCV(linear_classifier, parameters, cv=5)\n",
    "searcher.fit(X_train, y_train)\n",
    "\n",
    "# Report the best parameters and the corresponding score\n",
    "print(\"Best CV params\", searcher.best_params_)\n",
    "print(\"Best CV accuracy\", searcher.best_score_)\n",
    "print(\"Test accuracy of best grid search hypers:\", searcher.score(X_test, y_test))"
   ]
  },
  {
   "cell_type": "markdown",
   "metadata": {},
   "source": [
    "### Cross-validation with Support Vector Classifier"
   ]
  },
  {
   "cell_type": "code",
   "execution_count": 12,
   "metadata": {},
   "outputs": [
    {
     "name": "stderr",
     "output_type": "stream",
     "text": [
      "/opt/anaconda3/lib/python3.7/site-packages/sklearn/model_selection/_split.py:1978: FutureWarning: The default value of cv will change from 3 to 5 in version 0.22. Specify it explicitly to silence this warning.\n",
      "  warnings.warn(CV_WARNING, FutureWarning)\n"
     ]
    },
    {
     "name": "stdout",
     "output_type": "stream",
     "text": [
      "Best CV params {'C': 1, 'gamma': 0.001}\n",
      "Best CV accuracy 0.6257142857142857\n",
      "Test accuracy of best grid search hypers: 0.6007604562737643\n"
     ]
    }
   ],
   "source": [
    "# Instantiate an SVM\n",
    "svm = SVC()\n",
    "\n",
    "# Instantiate the GridSearchCV object and run the search\n",
    "parameters = {'C':[0.1, 1, 10], 'gamma':[0.00001, 0.0001, 0.001, 0.01, 0.1]}\n",
    "searcher = GridSearchCV(svm, param_grid= parameters)\n",
    "searcher.fit(X_train, y_train)\n",
    "\n",
    "# Report the best parameters and the corresponding score\n",
    "print(\"Best CV params\", searcher.best_params_)\n",
    "print(\"Best CV accuracy\", searcher.best_score_)\n",
    "\n",
    "# Report the test accuracy using these best parameters\n",
    "print(\"Test accuracy of best grid search hypers:\", searcher.score(X_test, y_test))"
   ]
  },
  {
   "cell_type": "markdown",
   "metadata": {},
   "source": [
    "### Prepare data for Keras Model"
   ]
  },
  {
   "cell_type": "code",
   "execution_count": 25,
   "metadata": {},
   "outputs": [
    {
     "name": "stdout",
     "output_type": "stream",
     "text": [
      "(3344,)\n",
      "(1050, 2)\n"
     ]
    }
   ],
   "source": [
    "n_cols = X_train.shape[1]\n",
    "input_shape = (n_cols,)\n",
    "print(input_shape)\n",
    "\n",
    "y_train= to_categorical(y_train)\n",
    "print(y_train.shape)"
   ]
  },
  {
   "cell_type": "code",
   "execution_count": 42,
   "metadata": {},
   "outputs": [
    {
     "name": "stdout",
     "output_type": "stream",
     "text": [
      "Train on 735 samples, validate on 315 samples\n",
      "Epoch 1/50\n",
      "735/735 [==============================] - 1s 1ms/step - loss: 0.7212 - accuracy: 0.5837 - val_loss: 0.7031 - val_accuracy: 0.6254\n",
      "Epoch 2/50\n",
      "735/735 [==============================] - 1s 1ms/step - loss: 0.6101 - accuracy: 0.6871 - val_loss: 0.7640 - val_accuracy: 0.5524\n",
      "Epoch 3/50\n",
      "735/735 [==============================] - 1s 1ms/step - loss: 0.5697 - accuracy: 0.7102 - val_loss: 0.6808 - val_accuracy: 0.6254\n",
      "Epoch 4/50\n",
      "735/735 [==============================] - 1s 1ms/step - loss: 0.5071 - accuracy: 0.7442 - val_loss: 0.7557 - val_accuracy: 0.6222\n",
      "Epoch 5/50\n",
      "735/735 [==============================] - 1s 1ms/step - loss: 0.4629 - accuracy: 0.8054 - val_loss: 0.8457 - val_accuracy: 0.6317\n",
      "Epoch 6/50\n",
      "735/735 [==============================] - 1s 1ms/step - loss: 0.3668 - accuracy: 0.8259 - val_loss: 0.9154 - val_accuracy: 0.5841\n",
      "Epoch 7/50\n",
      "735/735 [==============================] - 1s 1ms/step - loss: 0.3440 - accuracy: 0.8463 - val_loss: 1.0028 - val_accuracy: 0.6222\n"
     ]
    }
   ],
   "source": [
    "from keras.optimizers import Adam\n",
    "\n",
    "model = Sequential()\n",
    "\n",
    "model.add(Dense(1000, activation='relu', input_shape= input_shape))\n",
    "model.add(Dropout(0.1))\n",
    "model.add(Dense(500, activation='relu'))\n",
    "model.add(Dropout(0.05))\n",
    "model.add(Dense(50, activation='relu'))\n",
    "#model.add(Dropout(0.01))\n",
    "model.add(Dense(2, activation='softmax'))\n",
    "\n",
    "# Compile the model \n",
    "model.compile(optimizer=Adam(lr= 0.001), \n",
    "              loss='categorical_crossentropy', \n",
    "              metrics=['accuracy'])\n",
    "\n",
    "early_stopping_monitor = EarlyStopping(patience= 4)\n",
    "mcp_save = ModelCheckpoint('.mdl_wts.hdf5', save_best_only=True, monitor='val_loss', mode='min')\n",
    "\n",
    "# Fit the model on a training set\n",
    "his= model.fit(X_train, y_train, \n",
    "          validation_split= 0.3, \n",
    "          epochs=50, batch_size=30, callbacks=[early_stopping_monitor, mcp_save] )"
   ]
  },
  {
   "cell_type": "code",
   "execution_count": 43,
   "metadata": {},
   "outputs": [
    {
     "data": {
      "text/plain": [
       "[<matplotlib.lines.Line2D at 0x151d74b50>,\n",
       " <matplotlib.lines.Line2D at 0x15270e7d0>]"
      ]
     },
     "execution_count": 43,
     "metadata": {},
     "output_type": "execute_result"
    },
    {
     "data": {
      "image/png": "[encoded data removed]",
      "text/plain": [
       "<Figure size 432x288 with 1 Axes>"
      ]
     },
     "metadata": {
      "needs_background": "light"
     },
     "output_type": "display_data"
    }
   ],
   "source": [
    "plt.plot(his.history['loss'], 'r', his.history['val_loss'], 'b')"
   ]
  },
  {
   "cell_type": "markdown",
   "metadata": {},
   "source": [
    "### Output predictions to an external file"
   ]
  },
  {
   "cell_type": "code",
   "execution_count": 47,
   "metadata": {},
   "outputs": [],
   "source": [
    "preds= model.predict(X_train)\n",
    "predsdf= pd.DataFrame(preds)\n",
    "predsdf.to_csv(\"preds.df\")"
   ]
  }
 ],
 "metadata": {
  "kernelspec": {
   "display_name": "Python 3",
   "language": "python",
   "name": "python3"
  },
  "language_info": {
   "codemirror_mode": {
    "name": "ipython",
    "version": 3
   },
   "file_extension": ".py",
   "mimetype": "text/x-python",
   "name": "python",
   "nbconvert_exporter": "python",
   "pygments_lexer": "ipython3",
   "version": "3.7.4"
  }
 },
 "nbformat": 4,
 "nbformat_minor": 2
}
